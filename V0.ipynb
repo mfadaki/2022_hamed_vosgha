{
 "cells": [
  {
   "cell_type": "code",
   "execution_count": 251,
   "id": "92ea8f44",
   "metadata": {},
   "outputs": [],
   "source": [
    "import numpy as np\n",
    "import scipy as cp\n",
    "import pandas as pd\n",
    "\n",
    "import matplotlib.pyplot as plt\n",
    "\n",
    "import sys\n",
    "import docplex.mp\n",
    "from docplex.mp.model import Model # import the Model class from docplex.mp"
   ]
  },
  {
   "cell_type": "code",
   "execution_count": 252,
   "id": "5ce0da29",
   "metadata": {},
   "outputs": [],
   "source": [
    "url = None\n",
    "key = None"
   ]
  },
  {
   "cell_type": "code",
   "execution_count": 253,
   "id": "b31d8171",
   "metadata": {},
   "outputs": [],
   "source": [
    "m = Model(name='SLPRD')"
   ]
  },
  {
   "cell_type": "code",
   "execution_count": 254,
   "id": "b721b5d7",
   "metadata": {},
   "outputs": [],
   "source": [
    "# Capita Adequacy Constraint:0.08 *(0.09*B+*0.09*R) <=0.5"
   ]
  },
  {
   "cell_type": "code",
   "execution_count": 255,
   "id": "a719b91f",
   "metadata": {},
   "outputs": [],
   "source": [
    "# Leverage Ratio constraint: 0.03*(L+B+R)-E<=0.3"
   ]
  },
  {
   "cell_type": "code",
   "execution_count": 256,
   "id": "24e54cd1",
   "metadata": {},
   "outputs": [],
   "source": [
    "# Net Stabe Funding Constraint: 0.5*L+0.65*0.04*B+0.65*0.03*R-0.95*0.03*D-0.5*0.03*C<= 0.4"
   ]
  },
  {
   "cell_type": "code",
   "execution_count": 257,
   "id": "390c5e0b",
   "metadata": {},
   "outputs": [],
   "source": [
    "# Liquidity Coverage ratio: -0.04*L-0.51*0.03*D <=0"
   ]
  },
  {
   "cell_type": "code",
   "execution_count": 258,
   "id": "9a1b7cf6",
   "metadata": {},
   "outputs": [],
   "source": [
    "# Define Asset side variables\n",
    "L = m.continuous_var (name=\"L\")\n",
    "B = m.continuous_var (name=\"B\")\n",
    "R = m.continuous_var (name=\"R\")\n",
    "# Define Liability side variables\n",
    "C = m.continuous_var (name=\"C\")\n",
    "D = m.continuous_var (name=\"D\")\n",
    "T = m.continuous_var (name=\"T\")\n",
    "E = m.continuous_var (name=\"E\")\n",
    "# Adjustment Cost\n",
    "a = m.continuous_var (name=\"a\")"
   ]
  },
  {
   "cell_type": "code",
   "execution_count": 259,
   "id": "ca62c350",
   "metadata": {},
   "outputs": [],
   "source": [
    "a=0.02"
   ]
  },
  {
   "cell_type": "code",
   "execution_count": 260,
   "id": "bfc79669",
   "metadata": {},
   "outputs": [
    {
     "data": {
      "text/plain": [
       "docplex.mp.LinearConstraint[](0.007B+0.007R,LE,0.5)"
      ]
     },
     "execution_count": 260,
     "metadata": {},
     "output_type": "execute_result"
    }
   ],
   "source": [
    "#Capita Adequacy Constraint\n",
    "m.add_constraint(0.08*0.09*B+0.08*0.09*R<=0.5)"
   ]
  },
  {
   "cell_type": "code",
   "execution_count": 261,
   "id": "46b4df74",
   "metadata": {},
   "outputs": [
    {
     "data": {
      "text/plain": [
       "docplex.mp.LinearConstraint[](0.030L+0.030B+0.030R-E,LE,0.3)"
      ]
     },
     "execution_count": 261,
     "metadata": {},
     "output_type": "execute_result"
    }
   ],
   "source": [
    "# Leverage Ratio constraint:\n",
    "m.add_constraint(0.03*(L+B+R)-E<=0.3)"
   ]
  },
  {
   "cell_type": "code",
   "execution_count": 262,
   "id": "26cfb60a",
   "metadata": {},
   "outputs": [
    {
     "data": {
      "text/plain": [
       "docplex.mp.LinearConstraint[](0.500L+0.026B+0.019R-0.015C-0.028D,LE,0.4)"
      ]
     },
     "execution_count": 262,
     "metadata": {},
     "output_type": "execute_result"
    }
   ],
   "source": [
    "# Net Stabe Funding Constraint:\n",
    "m.add_constraint(0.5*L+0.65*0.04*B+0.65*0.03*R-0.95*0.03*D-0.5*0.03*C<= 0.4)"
   ]
  },
  {
   "cell_type": "code",
   "execution_count": 263,
   "id": "aaa2c418",
   "metadata": {},
   "outputs": [
    {
     "data": {
      "text/plain": [
       "docplex.mp.LinearConstraint[](0.040L-0.015D,LE,0)"
      ]
     },
     "execution_count": 263,
     "metadata": {},
     "output_type": "execute_result"
    }
   ],
   "source": [
    "# Liquidity Coverage ratio:\n",
    "m.add_constraint(0.04*L-0.51*0.03*D <=0)"
   ]
  },
  {
   "cell_type": "code",
   "execution_count": 264,
   "id": "68c9ca2c",
   "metadata": {},
   "outputs": [],
   "source": [
    "#Objective function deterministic :\n",
    "#Max ((0.04 L - a |L-0.1|)+ (0.033 B -a |B-0.5|)+ (0.024R-a|R-0.4|)+(0.0025C-a|C-0.1|)+(0.0051D-a|D-0.4*|)\n",
    "#-(0.03*E-a|E-0.3|+ 0.04*T-a|T-0.2|] )"
   ]
  },
  {
   "cell_type": "code",
   "execution_count": 265,
   "id": "4797dbb0",
   "metadata": {},
   "outputs": [],
   "source": [
    "# Define Absolute Value  variables\n",
    "U1= m.continuous_var (name=\"U1\")\n",
    "U2= m.continuous_var (name=\"U2\")\n",
    "U3= m.continuous_var (name=\"U3\")\n",
    "V1= m.continuous_var (name=\"V1\")\n",
    "V2= m.continuous_var (name=\"V2\")\n",
    "V3= m.continuous_var (name=\"V3\")\n",
    "V4= m.continuous_var (name=\"V4\")"
   ]
  },
  {
   "cell_type": "code",
   "execution_count": 266,
   "id": "c18aa4c2",
   "metadata": {},
   "outputs": [],
   "source": [
    "#Absolute Value constraint:-(L-0.1) <= U1 <= (L-0.1) "
   ]
  },
  {
   "cell_type": "code",
   "execution_count": 267,
   "id": "b3669967",
   "metadata": {},
   "outputs": [],
   "source": [
    "#Absolute Value constraint:-(B-0.5) <= U2 <= (B-0.5) "
   ]
  },
  {
   "cell_type": "code",
   "execution_count": 268,
   "id": "e2982d65",
   "metadata": {},
   "outputs": [],
   "source": [
    "#Absolute Value constraint:-(R-0.4) <= U3 <= (R-0.4) "
   ]
  },
  {
   "cell_type": "code",
   "execution_count": 269,
   "id": "c99e7632",
   "metadata": {},
   "outputs": [],
   "source": [
    "#Absolute Value constraint:-(C-0.1) <= V1 <= (C-0.1) "
   ]
  },
  {
   "cell_type": "code",
   "execution_count": 270,
   "id": "7ac9647e",
   "metadata": {},
   "outputs": [],
   "source": [
    "#Absolute Value constraint:-(D-0.4) <= V2 <= (D-0.4) \n",
    "#Absolute Value constraint:-(E-0.3) <= V3 <= (E-0.3) \n",
    "#Absolute Value constraint:-(T-0.2) <= V4 <= (T-0.2) "
   ]
  },
  {
   "cell_type": "code",
   "execution_count": 271,
   "id": "5916f9d3",
   "metadata": {},
   "outputs": [
    {
     "data": {
      "text/plain": [
       "docplex.mp.LinearConstraint[](-T+V4,LE,-0.2)"
      ]
     },
     "execution_count": 271,
     "metadata": {},
     "output_type": "execute_result"
    }
   ],
   "source": [
    "#Absolute Value constraints after the rearrangement\n",
    "m.add_constraint(U1-L<= -0.1)\n",
    "m.add_constraint(-L-U1<= -0.1)\n",
    "m.add_constraint(-B-U2<= -0.5)\n",
    "m.add_constraint(U2-B<= -0.5)\n",
    "m.add_constraint(-R-U3<= -0.4)\n",
    "m.add_constraint(U3-R<= -0.4)\n",
    "m.add_constraint(-C-V1<= -0.1)\n",
    "m.add_constraint(V1-C<= -0.1)\n",
    "m.add_constraint(-D-V2<= -0.4)\n",
    "m.add_constraint(V2-D<= -0.4)\n",
    "m.add_constraint(V3-E<= -0.3)\n",
    "m.add_constraint(V3-E<= -0.3)\n",
    "m.add_constraint(-E-V3<= -0.3)\n",
    "m.add_constraint(-T-V4<= -0.2)\n",
    "m.add_constraint(V4-T<= -0.2)"
   ]
  },
  {
   "cell_type": "code",
   "execution_count": 272,
   "id": "8e0184f2",
   "metadata": {},
   "outputs": [
    {
     "data": {
      "text/plain": [
       "docplex.mp.LinearConstraint[](T,GE,0)"
      ]
     },
     "execution_count": 272,
     "metadata": {},
     "output_type": "execute_result"
    }
   ],
   "source": [
    "#Nonnegativity\n",
    "m.add_constraint(L >= 0)\n",
    "m.add_constraint(B >= 0)\n",
    "m.add_constraint(R >=0)\n",
    "m.add_constraint(C<= 0.2)\n",
    "m.add_constraint(D <= 0.6)\n",
    "m.add_constraint(E >= 0)\n",
    "m.add_constraint(T >= 0)"
   ]
  },
  {
   "cell_type": "code",
   "execution_count": 273,
   "id": "00ee83a0",
   "metadata": {},
   "outputs": [
    {
     "name": "stdout",
     "output_type": "stream",
     "text": [
      "Model: SLPRD\n",
      " - number of variables: 15\n",
      "   - binary=0, integer=0, continuous=15\n",
      " - number of constraints: 26\n",
      "   - linear=26\n",
      " - parameters: defaults\n",
      " - objective: maximize\n",
      " - problem type is: LP\n"
     ]
    }
   ],
   "source": [
    "m.maximize ((0.04* L - a*U1)+ (0.033* B -a *U2)+ (0.024*R-a* U3)+(0.0025*C-a*V1)+(0.0051*D-a*V2)-(0.03*E-a*V3)-(0.04*T-a*V4))\n",
    "m.print_information()"
   ]
  },
  {
   "cell_type": "code",
   "execution_count": 274,
   "id": "b701de87",
   "metadata": {},
   "outputs": [
    {
     "name": "stdout",
     "output_type": "stream",
     "text": [
      "Version identifier: 20.1.0.0 | 2020-11-10 | 9bedb6d68\n",
      "CPXPARAM_Read_DataCheck                          1\n",
      "Tried aggregator 1 time.\n",
      "LP Presolve eliminated 16 rows and 6 columns.\n",
      "Aggregator did 2 substitutions.\n",
      "Reduced LP has 8 rows, 7 columns, and 19 nonzeros.\n",
      "Presolve time = 0.02 sec. (0.02 ticks)\n",
      "\n",
      "Iteration log . . .\n",
      "Iteration:     1   Scaled dual infeas =             0.053360\n",
      "Iteration:     3   Dual objective     =             0.519464\n"
     ]
    },
    {
     "ename": "AttributeError",
     "evalue": "'SolveSolution' object has no attribute 'report'",
     "output_type": "error",
     "traceback": [
      "\u001b[1;31m---------------------------------------------------------------------------\u001b[0m",
      "\u001b[1;31mAttributeError\u001b[0m                            Traceback (most recent call last)",
      "\u001b[1;32m<ipython-input-274-05333935ee68>\u001b[0m in \u001b[0;36m<module>\u001b[1;34m\u001b[0m\n\u001b[0;32m      1\u001b[0m \u001b[0mmsol\u001b[0m \u001b[1;33m=\u001b[0m \u001b[0mm\u001b[0m\u001b[1;33m.\u001b[0m\u001b[0msolve\u001b[0m\u001b[1;33m(\u001b[0m\u001b[0murl\u001b[0m\u001b[1;33m=\u001b[0m\u001b[0murl\u001b[0m\u001b[1;33m,\u001b[0m \u001b[0mlog_output\u001b[0m\u001b[1;33m=\u001b[0m\u001b[1;32mTrue\u001b[0m\u001b[1;33m)\u001b[0m\u001b[1;33m\u001b[0m\u001b[1;33m\u001b[0m\u001b[0m\n\u001b[1;32m----> 2\u001b[1;33m \u001b[0mmsol\u001b[0m\u001b[1;33m.\u001b[0m\u001b[0mreport\u001b[0m\u001b[1;33m(\u001b[0m\u001b[1;33m)\u001b[0m\u001b[1;33m\u001b[0m\u001b[1;33m\u001b[0m\u001b[0m\n\u001b[0m",
      "\u001b[1;31mAttributeError\u001b[0m: 'SolveSolution' object has no attribute 'report'"
     ]
    }
   ],
   "source": [
    "msol = m.solve(url=url, log_output=True)\n",
    "msol.report()"
   ]
  },
  {
   "cell_type": "code",
   "execution_count": null,
   "id": "cc077d88",
   "metadata": {},
   "outputs": [],
   "source": []
  }
 ],
 "metadata": {
  "kernelspec": {
   "display_name": "Python 3",
   "language": "python",
   "name": "python3"
  },
  "language_info": {
   "codemirror_mode": {
    "name": "ipython",
    "version": 3
   },
   "file_extension": ".py",
   "mimetype": "text/x-python",
   "name": "python",
   "nbconvert_exporter": "python",
   "pygments_lexer": "ipython3",
   "version": "3.8.8"
  }
 },
 "nbformat": 4,
 "nbformat_minor": 5
}
